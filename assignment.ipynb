{
 "cells": [
  {
   "cell_type": "code",
   "execution_count": 5,
   "id": "eb0f2816",
   "metadata": {},
   "outputs": [],
   "source": [
    "import numpy as np"
   ]
  },
  {
   "cell_type": "code",
   "execution_count": 43,
   "id": "2d7b84d4",
   "metadata": {},
   "outputs": [
    {
     "data": {
      "text/plain": [
       "array([0.        , 0.02040816, 0.04081633, 0.06122449, 0.08163265,\n",
       "       0.10204082, 0.12244898, 0.14285714, 0.16326531, 0.18367347,\n",
       "       0.20408163, 0.2244898 , 0.24489796, 0.26530612, 0.28571429,\n",
       "       0.30612245, 0.32653061, 0.34693878, 0.36734694, 0.3877551 ,\n",
       "       0.40816327, 0.42857143, 0.44897959, 0.46938776, 0.48979592,\n",
       "       0.51020408, 0.53061224, 0.55102041, 0.57142857, 0.59183673,\n",
       "       0.6122449 , 0.63265306, 0.65306122, 0.67346939, 0.69387755,\n",
       "       0.71428571, 0.73469388, 0.75510204, 0.7755102 , 0.79591837,\n",
       "       0.81632653, 0.83673469, 0.85714286, 0.87755102, 0.89795918,\n",
       "       0.91836735, 0.93877551, 0.95918367, 0.97959184, 1.        ])"
      ]
     },
     "execution_count": 43,
     "metadata": {},
     "output_type": "execute_result"
    }
   ],
   "source": [
    "x1=np.linspace(0,1,50)\n",
    "x1"
   ]
  },
  {
   "cell_type": "code",
   "execution_count": 49,
   "id": "4c7cb571",
   "metadata": {},
   "outputs": [
    {
     "data": {
      "text/plain": [
       "array([[0.        , 0.05263158, 0.10526316, 0.15789474, 0.21052632],\n",
       "       [0.26315789, 0.31578947, 0.36842105, 0.42105263, 0.47368421],\n",
       "       [0.52631579, 0.57894737, 0.63157895, 0.68421053, 0.73684211],\n",
       "       [0.78947368, 0.84210526, 0.89473684, 0.94736842, 1.        ]])"
      ]
     },
     "execution_count": 49,
     "metadata": {},
     "output_type": "execute_result"
    }
   ],
   "source": [
    "x2=np.linspace(0,1,20).reshape((4,5))\n",
    "x2"
   ]
  },
  {
   "cell_type": "code",
   "execution_count": 50,
   "id": "ed9590d3",
   "metadata": {},
   "outputs": [
    {
     "name": "stdout",
     "output_type": "stream",
     "text": [
      "The first split \n",
      " [[0.         0.05263158 0.10526316 0.15789474 0.21052632]\n",
      " [0.26315789 0.31578947 0.36842105 0.42105263 0.47368421]] \n",
      "\n",
      "The second split \n",
      " [[0.52631579 0.57894737 0.63157895 0.68421053 0.73684211]\n",
      " [0.78947368 0.84210526 0.89473684 0.94736842 1.        ]] \n",
      "\n",
      "The third split \n",
      " []\n"
     ]
    }
   ],
   "source": [
    "first,second,third=np.vsplit(x2,(2,4))\n",
    "print(\"The first split \\n\",first,\"\\n\")\n",
    "print(\"The second split \\n\",second,\"\\n\")\n",
    "print(\"The third split \\n\",third)"
   ]
  },
  {
   "cell_type": "code",
   "execution_count": 47,
   "id": "60cbecd3",
   "metadata": {},
   "outputs": [
    {
     "name": "stdout",
     "output_type": "stream",
     "text": [
      "The first split \n",
      " [0.         0.02040816 0.04081633 0.06122449 0.08163265 0.10204082\n",
      " 0.12244898 0.14285714 0.16326531 0.18367347 0.20408163 0.2244898\n",
      " 0.24489796 0.26530612 0.28571429]\n",
      "\n",
      "The second split \n",
      " [0.30612245 0.32653061 0.34693878 0.36734694 0.3877551  0.40816327\n",
      " 0.42857143 0.44897959 0.46938776 0.48979592 0.51020408 0.53061224\n",
      " 0.55102041 0.57142857 0.59183673] \n",
      "\n",
      "The third split \n",
      " [0.6122449  0.63265306 0.65306122 0.67346939 0.69387755 0.71428571\n",
      " 0.73469388 0.75510204 0.7755102  0.79591837 0.81632653 0.83673469\n",
      " 0.85714286 0.87755102 0.89795918 0.91836735 0.93877551 0.95918367\n",
      " 0.97959184 1.        ]\n"
     ]
    }
   ],
   "source": [
    "first,second,third=np.split(x1,(15,30))\n",
    "print(\"The first split \\n\",first)\n",
    "print()\n",
    "print(\"The second split \\n\",second,\"\\n\")\n",
    "print(\"The third split \\n\",third)"
   ]
  },
  {
   "cell_type": "code",
   "execution_count": 51,
   "id": "7126cd1e",
   "metadata": {},
   "outputs": [
    {
     "data": {
      "text/plain": [
       "array([[ 1,  2,  3,  4,  5],\n",
       "       [ 6,  7,  8,  9, 10],\n",
       "       [11, 12, 13, 14, 15],\n",
       "       [16, 17, 18, 19, 20]])"
      ]
     },
     "execution_count": 51,
     "metadata": {},
     "output_type": "execute_result"
    }
   ],
   "source": [
    "x3=np.array([[1,2,3,4,5],[6,7,8,9,10],[11,12,13,14,15],[16,17,18,19,20]])\n",
    "x3"
   ]
  },
  {
   "cell_type": "code",
   "execution_count": 52,
   "id": "88312b7b",
   "metadata": {},
   "outputs": [
    {
     "data": {
      "text/plain": [
       "array([[-0.2030929 ,  0.03697535,  0.20983553, -0.28951594, -1.74185489],\n",
       "       [ 0.34044914, -0.26830502, -0.36257412,  1.05203468, -0.74618573],\n",
       "       [ 0.06461081,  1.32052702,  0.50154759, -1.30112769, -0.13074332],\n",
       "       [ 1.49170416, -0.89426456,  0.53599693, -0.94982881,  0.27791096]])"
      ]
     },
     "execution_count": 52,
     "metadata": {},
     "output_type": "execute_result"
    }
   ],
   "source": [
    "x4=np.random.normal(0,1,(4,5))\n",
    "x4"
   ]
  },
  {
   "cell_type": "code",
   "execution_count": 53,
   "id": "2ace5a3b",
   "metadata": {},
   "outputs": [
    {
     "data": {
      "text/plain": [
       "array([[1, 1, 1, 1, 1],\n",
       "       [1, 1, 1, 1, 1],\n",
       "       [1, 1, 1, 1, 1],\n",
       "       [1, 1, 1, 1, 1]])"
      ]
     },
     "execution_count": 53,
     "metadata": {},
     "output_type": "execute_result"
    }
   ],
   "source": [
    "x5=np.ones((4,5),dtype=int)\n",
    "x5"
   ]
  },
  {
   "cell_type": "code",
   "execution_count": null,
   "id": "d2204ac6",
   "metadata": {},
   "outputs": [],
   "source": [
    "#ASSIGNMENT TWO"
   ]
  },
  {
   "cell_type": "code",
   "execution_count": null,
   "id": "15b308d1",
   "metadata": {},
   "outputs": [],
   "source": [
    "#use us_births data to compute the following using np:\n",
    "    #extract the year, gender and births column from the data\n",
    "    #compute the aggregation of sum of total birth, sum of female birth and sum of male birth, mean and median\n",
    "    #compute the maximum births and minimum births\n",
    "    #indicate the gender with minimum birth and maximum birth\n",
    "    #indicate the year with minimum birth and maximum birth"
   ]
  },
  {
   "cell_type": "code",
   "execution_count": 17,
   "id": "a9c47be0",
   "metadata": {},
   "outputs": [
    {
     "data": {
      "text/html": [
       "<div>\n",
       "<style scoped>\n",
       "    .dataframe tbody tr th:only-of-type {\n",
       "        vertical-align: middle;\n",
       "    }\n",
       "\n",
       "    .dataframe tbody tr th {\n",
       "        vertical-align: top;\n",
       "    }\n",
       "\n",
       "    .dataframe thead th {\n",
       "        text-align: right;\n",
       "    }\n",
       "</style>\n",
       "<table border=\"1\" class=\"dataframe\">\n",
       "  <thead>\n",
       "    <tr style=\"text-align: right;\">\n",
       "      <th></th>\n",
       "      <th>year</th>\n",
       "      <th>month</th>\n",
       "      <th>day</th>\n",
       "      <th>gender</th>\n",
       "      <th>births</th>\n",
       "    </tr>\n",
       "  </thead>\n",
       "  <tbody>\n",
       "    <tr>\n",
       "      <th>0</th>\n",
       "      <td>1969</td>\n",
       "      <td>1</td>\n",
       "      <td>1.0</td>\n",
       "      <td>F</td>\n",
       "      <td>4046</td>\n",
       "    </tr>\n",
       "    <tr>\n",
       "      <th>1</th>\n",
       "      <td>1969</td>\n",
       "      <td>1</td>\n",
       "      <td>1.0</td>\n",
       "      <td>M</td>\n",
       "      <td>4440</td>\n",
       "    </tr>\n",
       "    <tr>\n",
       "      <th>2</th>\n",
       "      <td>1969</td>\n",
       "      <td>1</td>\n",
       "      <td>2.0</td>\n",
       "      <td>F</td>\n",
       "      <td>4454</td>\n",
       "    </tr>\n",
       "    <tr>\n",
       "      <th>3</th>\n",
       "      <td>1969</td>\n",
       "      <td>1</td>\n",
       "      <td>2.0</td>\n",
       "      <td>M</td>\n",
       "      <td>4548</td>\n",
       "    </tr>\n",
       "    <tr>\n",
       "      <th>4</th>\n",
       "      <td>1969</td>\n",
       "      <td>1</td>\n",
       "      <td>3.0</td>\n",
       "      <td>F</td>\n",
       "      <td>4548</td>\n",
       "    </tr>\n",
       "  </tbody>\n",
       "</table>\n",
       "</div>"
      ],
      "text/plain": [
       "   year  month  day gender  births\n",
       "0  1969      1  1.0      F    4046\n",
       "1  1969      1  1.0      M    4440\n",
       "2  1969      1  2.0      F    4454\n",
       "3  1969      1  2.0      M    4548\n",
       "4  1969      1  3.0      F    4548"
      ]
     },
     "execution_count": 17,
     "metadata": {},
     "output_type": "execute_result"
    }
   ],
   "source": [
    "import pandas as pd\n",
    "us_birth_data = pd.read_csv('C:\\\\pythonClass\\\\DataSet\\\\us_births.csv')\n",
    "us_birth_data.head()"
   ]
  },
  {
   "cell_type": "code",
   "execution_count": 18,
   "id": "e342fc0e",
   "metadata": {},
   "outputs": [
    {
     "name": "stdout",
     "output_type": "stream",
     "text": [
      "US Year\n",
      " [1969 1969 1969 ... 2008 2008 2008] \n",
      "\n",
      "US Gender\n",
      " ['F' 'M' 'F' ... 'M' 'F' 'M'] \n",
      "\n",
      "US Births\n",
      " [  4046   4440   4454 ... 165468 173215 181235]\n"
     ]
    }
   ],
   "source": [
    "# Extracting year, gender and births column from the data.\n",
    "us_year = np.array(us_birth_data['year'])\n",
    "us_gender = np.array(us_birth_data['gender'])\n",
    "us_births = np.array(us_birth_data['births'])\n",
    "print(\"US Year\\n\",us_year,\"\\n\")\n",
    "print(\"US Gender\\n\",us_gender,\"\\n\")\n",
    "print(\"US Births\\n\",us_births)"
   ]
  },
  {
   "cell_type": "code",
   "execution_count": 38,
   "id": "3f90dd8d",
   "metadata": {},
   "outputs": [
    {
     "name": "stdout",
     "output_type": "stream",
     "text": [
      "Total Birth:    151774378\n",
      "Mean of Birth:    9762.293561458802\n",
      "Median Birth:    4814.0\n",
      "-------------------------------------------------\n",
      "Total Female:    74035823\n",
      "Mean of Female:    9521.067772633745\n",
      "Median of Female:    4688.5\n",
      "-------------------------------------------------\n",
      "Total Male:    77738555\n",
      "Mean of Male:    10003.674559258783\n",
      "Median of Male:    4938.0\n"
     ]
    }
   ],
   "source": [
    "# compute the aggregation of sum of total birth, sum of female birth and sum of male birth, mean and median\n",
    "print(\"Total Birth:   \", us_births.sum())\n",
    "print(\"Mean of Birth:   \", us_births.mean())\n",
    "print(\"Median Birth:   \", np.median(us_births))\n",
    "print(\"-------------------------------------------------\")\n",
    "print(\"Total Female:   \", us_births[us_gender==\"F\"].sum())\n",
    "print(\"Mean of Female:   \", us_births[us_gender==\"F\"].mean())\n",
    "print(\"Median of Female:   \", np.median(us_births[us_gender==\"F\"]))\n",
    "print(\"-------------------------------------------------\")\n",
    "print(\"Total Male:   \", us_births[us_gender==\"M\"].sum())\n",
    "print(\"Mean of Male:   \", us_births[us_gender==\"M\"].mean())\n",
    "print(\"Median of Male:   \", np.median(us_births[us_gender==\"M\"]))"
   ]
  },
  {
   "cell_type": "code",
   "execution_count": 39,
   "id": "e221abb8",
   "metadata": {},
   "outputs": [
    {
     "name": "stdout",
     "output_type": "stream",
     "text": [
      "minimum birth:    1\n",
      "maximum birth:    199622\n"
     ]
    }
   ],
   "source": [
    "#compute the maximum births and minimum births\n",
    "print(\"Minimum birth:   \", us_births.min())\n",
    "print(\"Maximum birth:   \", us_births.max())"
   ]
  },
  {
   "cell_type": "code",
   "execution_count": 41,
   "id": "c2891ab4",
   "metadata": {},
   "outputs": [
    {
     "name": "stdout",
     "output_type": "stream",
     "text": [
      "Gender With Minimum Birth:    F\n",
      "Gender With Maximum Birth:    M\n"
     ]
    }
   ],
   "source": [
    "#indicate the gender with minimum birth and maximum birth\n",
    "print(\"Gender With Minimum Birth:   \", us_gender[us_births.argmin()])\n",
    "print(\"Gender With Maximum Birth:   \", us_gender[us_births.argmax()])"
   ]
  },
  {
   "cell_type": "code",
   "execution_count": 42,
   "id": "fc7ba13a",
   "metadata": {},
   "outputs": [
    {
     "name": "stdout",
     "output_type": "stream",
     "text": [
      "Year With Minimum Birth:    1975\n",
      "Year With Maximum Birth:    2007\n"
     ]
    }
   ],
   "source": [
    "#indicate the year with minimum birth and maximum birth\n",
    "print(\"Year With Minimum Birth:   \", us_year[us_births.argmin()])\n",
    "print(\"Year With Maximum Birth:   \", us_year[us_births.argmax()])"
   ]
  },
  {
   "cell_type": "code",
   "execution_count": null,
   "id": "0d5d0411",
   "metadata": {},
   "outputs": [],
   "source": []
  }
 ],
 "metadata": {
  "kernelspec": {
   "display_name": "Python 3",
   "language": "python",
   "name": "python3"
  },
  "language_info": {
   "codemirror_mode": {
    "name": "ipython",
    "version": 3
   },
   "file_extension": ".py",
   "mimetype": "text/x-python",
   "name": "python",
   "nbconvert_exporter": "python",
   "pygments_lexer": "ipython3",
   "version": "3.8.8"
  }
 },
 "nbformat": 4,
 "nbformat_minor": 5
}
